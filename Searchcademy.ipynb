{
 "cells": [
  {
   "cell_type": "markdown",
   "id": "4fd16b89",
   "metadata": {},
   "source": [
    "## Search through function"
   ]
  },
  {
   "cell_type": "code",
   "execution_count": 3,
   "id": "d8bf637b",
   "metadata": {},
   "outputs": [],
   "source": [
    "def sparse_search(data, search_val):\n",
    "  print(\"Data: \" + str(data))\n",
    "  print(\"Search Value: \" + str(search_val))\n",
    "\n",
    "  first = 0\n",
    "  last = len(data) - 1\n",
    "\n",
    "  while first <= last:\n",
    "\n",
    "    mid = (first + last) // 2\n",
    "    # check if the middle is empty\n",
    "    if not data[mid]:\n",
    "\n",
    "      left = mid - 1\n",
    "      right = mid + 1\n",
    "      while True:\n",
    "   \n",
    "        if left < first and right > last:\n",
    "          print(\"{0} is not in the dataset\".format(search_val))\n",
    "          return\n",
    "  \n",
    "        elif right <= last and data[right]:\n",
    "          mid = right\n",
    "          break\n",
    "\n",
    "        elif left >= first and data[left]:\n",
    "          # do the same as before\n",
    "          mid = left\n",
    "          break\n",
    "\n",
    "        right += 1\n",
    "        left -= 1\n",
    "\n",
    "    if data[mid] == search_val:\n",
    "      print(\"{0} found at position {1}\".format(search_val, mid))\n",
    "      return\n",
    "\n",
    "\n",
    "    if search_val < data[mid]:\n",
    "\n",
    "      last = mid - 1\n",
    "\n",
    "    if search_val > data[mid]:\n",
    "      first = mid + 1\n",
    "  print(\"{0} is not in the dataset\".format(search_val))"
   ]
  },
  {
   "cell_type": "markdown",
   "id": "6fa47aec",
   "metadata": {},
   "source": [
    "## Testing function"
   ]
  },
  {
   "cell_type": "code",
   "execution_count": 6,
   "id": "42d4cd48",
   "metadata": {},
   "outputs": [
    {
     "name": "stdout",
     "output_type": "stream",
     "text": [
      "Data: ['']\n",
      "Search Value: Hello\n",
      "Hello is not in the dataset\n",
      "Data: ['A', '', '', '', 'B', '', '', '', 'C']\n",
      "Search Value: B\n",
      "B found at position 4\n",
      "Data: ['A', '', '', '', '']\n",
      "Search Value: A\n",
      "A found at position 0\n",
      "Data: ['', '', '', '', 'Z']\n",
      "Search Value: Z\n",
      "Z found at position 4\n",
      "Data: ['A', '', '', '', 'B', '', '', '', 'C', '', '', 'D']\n",
      "Search Value: C\n",
      "C found at position 8\n",
      "Data: ['A', 'B', '', '', 'E']\n",
      "Search Value: A\n",
      "A found at position 0\n",
      "Data: ['', 'X', '', 'Y', 'Z']\n",
      "Search Value: Z\n",
      "Z found at position 4\n",
      "Data: ['A', '', '', '', 'B', '', '', '', 'C']\n",
      "Search Value: D\n",
      "D is not in the dataset\n",
      "Data: ['Apple', '', 'Banana', '', '', '', '', 'Cow']\n",
      "Search Value: Banana\n",
      "Banana found at position 2\n",
      "Data: ['Alex', '', '', '', '', 'Devan', '', '', 'Elise', '', '', '', 'Gary', '', '', 'Mimi', '', '', 'Parth', '', '', '', 'Zachary']\n",
      "Search Value: Parth\n",
      "Parth found at position 18\n"
     ]
    }
   ],
   "source": [
    "# test\n",
    "sparse_search([\"\"], \"Hello\")\n",
    "# Hello is not in the dataset\n",
    "sparse_search([\"A\", \"\", \"\", \"\", \"B\", \"\", \"\", \"\", \"C\"], \"B\")\n",
    "# B found at position 4\n",
    "sparse_search([\"A\", \"\", \"\", \"\", \"\"], \"A\")\n",
    "# A found at position 0\n",
    "sparse_search([\"\", \"\", \"\", \"\", \"Z\"], \"Z\")\n",
    "# Z found at position 4\n",
    "sparse_search([\"A\", \"\", \"\", \"\", \"B\", \"\", \"\", \"\", \"C\", \"\", \"\", \"D\"], \"C\")\n",
    "# C found at position 8\n",
    "sparse_search([\"A\", \"B\", \"\", \"\", \"E\"], \"A\")\n",
    "# A found at position 0\n",
    "sparse_search([\"\", \"X\", \"\", \"Y\", \"Z\"], \"Z\")\n",
    "# Z found at position 4\n",
    "sparse_search([\"A\", \"\", \"\", \"\", \"B\", \"\", \"\", \"\", \"C\"], \"D\")\n",
    "# D is not in the dataset\n",
    "sparse_search([\"Apple\", \"\", \"Banana\", \"\", \"\", \"\", \"\", \"Cow\"], \"Banana\")\n",
    "# Banana found at position 2\n",
    "sparse_search([\"Alex\", \"\", \"\", \"\", \"\", \"Devan\", \"\", \"\", \"Elise\", \"\", \"\", \"\", \"Gary\", \"\", \"\", \"Mimi\", \"\", \"\", \"Parth\", \"\", \"\", \"\", \"Zachary\"], \"Parth\")\n"
   ]
  }
 ],
 "metadata": {
  "kernelspec": {
   "display_name": "Python 3",
   "language": "python",
   "name": "python3"
  },
  "language_info": {
   "codemirror_mode": {
    "name": "ipython",
    "version": 3
   },
   "file_extension": ".py",
   "mimetype": "text/x-python",
   "name": "python",
   "nbconvert_exporter": "python",
   "pygments_lexer": "ipython3",
   "version": "3.8.8"
  }
 },
 "nbformat": 4,
 "nbformat_minor": 5
}
